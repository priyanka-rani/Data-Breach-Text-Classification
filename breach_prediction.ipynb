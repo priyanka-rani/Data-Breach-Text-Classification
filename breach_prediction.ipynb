{
 "cells": [
  {
   "cell_type": "code",
   "execution_count": 8,
   "metadata": {},
   "outputs": [],
   "source": [
    "import gensim\n",
    "from gensim.utils import simple_preprocess\n",
    "from gensim.parsing.preprocessing import STOPWORDS\n",
    "import pickle\n",
    "from sklearn.feature_extraction.text import TfidfVectorizer\n",
    "import numpy as np\n",
    "from scipy import sparse\n",
    "import pickle\n",
    "import nltk\n",
    "from gensim import models\n",
    "from nltk.stem import WordNetLemmatizer, SnowballStemmer"
   ]
  },
  {
   "cell_type": "code",
   "execution_count": 9,
   "metadata": {},
   "outputs": [],
   "source": [
    "def lemmatize_stemming(text):\n",
    "    stemmer = SnowballStemmer('english')\n",
    "    return stemmer.stem(WordNetLemmatizer().lemmatize(text, pos='v'))\n",
    "def preprocess(text):\n",
    "    result = []\n",
    "    for token in gensim.utils.simple_preprocess(text):\n",
    "        if token not in gensim.parsing.preprocessing.STOPWORDS and len(token) > 3:\n",
    "            result.append(lemmatize_stemming(token))\n",
    "    return result"
   ]
  },
  {
   "cell_type": "code",
   "execution_count": 10,
   "metadata": {},
   "outputs": [],
   "source": [
    "# calculate bow corpus for a text\n",
    "def bowcorpus(textArray):\n",
    "    preprocesstext = [preprocess(text) for text in textArray]\n",
    "    dictionary = gensim.corpora.Dictionary(preprocesstext)\n",
    "    dictionary.filter_extremes(no_below=15, no_above=0.5, keep_n=100000)\n",
    "    return [dictionary.doc2bow(doc) for doc in preprocesstext]"
   ]
  },
  {
   "cell_type": "code",
   "execution_count": 11,
   "metadata": {},
   "outputs": [],
   "source": [
    "def ldaVecs(docs, corpus, ldaModel):\n",
    "    train_vecs = []\n",
    "    for i in range(len(docs)):\n",
    "        top_topics = ldaModel.get_document_topics(corpus[i], minimum_probability=0.0)\n",
    "        topic_vec = [top_topics[i][1] for i in range(20)]\n",
    "#         topic_vec.extend([len(docs[i])]) # length of description\n",
    "        train_vecs.append(topic_vec)\n",
    "    return train_vecs"
   ]
  },
  {
   "cell_type": "code",
   "execution_count": 12,
   "metadata": {},
   "outputs": [],
   "source": [
    "def getVectors(testData):\n",
    "    tfidfVectorizer = pickle.load(open(\"saved_models/tfidf.pickle\", \"rb\"))\n",
    "    tfidfVectors = tfidfVectorizer.transform(testData)\n",
    "    # get lda train model\n",
    "    lda_train =  models.LdaModel.load('saved_models/lda_train.model')\n",
    "    ldaVectors = ldaVecs(testData, bowcorpus(testData), lda_train)\n",
    "    sparse_lda =sparse.csr_matrix(ldaVectors)\n",
    "    return sparse.hstack((tfidfVectors, sparse_lda))"
   ]
  },
  {
   "cell_type": "code",
   "execution_count": 13,
   "metadata": {},
   "outputs": [],
   "source": [
    "def predict(testData):\n",
    "    np.random.seed(2018)\n",
    "    nltk.download('wordnet')\n",
    "    pkl_filename = \"saved_models/best_model.pkl\"\n",
    "    # Load from file\n",
    "    with open(pkl_filename, 'rb') as file:\n",
    "        pickle_model = pickle.load(file)\n",
    "        \n",
    "    testVectors = getVectors(testData)\n",
    "    return pickle_model.predict(testVectors)"
   ]
  },
  {
   "cell_type": "code",
   "execution_count": 14,
   "metadata": {},
   "outputs": [
    {
     "name": "stderr",
     "output_type": "stream",
     "text": [
      "[nltk_data] Downloading package wordnet to\n",
      "[nltk_data]     C:\\Users\\Priyanka\\AppData\\Roaming\\nltk_data...\n",
      "[nltk_data]   Package wordnet is already up-to-date!\n"
     ]
    },
    {
     "name": "stdout",
     "output_type": "stream",
     "text": [
      "['PORT']\n"
     ]
    }
   ],
   "source": [
    "prediction = predict([\"An office theft of an unencrypted laptop on or around December 15 resulted in the exposure of confidential personal information. Â The laptop contained an Excel spreadsheet with workers' compensation information such as names, Social Security numbers, telephone numbers, and other workers' compensation claim or injury information.\"])\n",
    "print(prediction)"
   ]
  }
 ],
 "metadata": {
  "kernelspec": {
   "display_name": "Python 3",
   "language": "python",
   "name": "python3"
  },
  "language_info": {
   "codemirror_mode": {
    "name": "ipython",
    "version": 3
   },
   "file_extension": ".py",
   "mimetype": "text/x-python",
   "name": "python",
   "nbconvert_exporter": "python",
   "pygments_lexer": "ipython3",
   "version": "3.8.3"
  }
 },
 "nbformat": 4,
 "nbformat_minor": 4
}
